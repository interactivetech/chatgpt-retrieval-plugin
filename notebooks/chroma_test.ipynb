{
 "cells": [
  {
   "cell_type": "markdown",
   "id": "3c419b7a-48ba-4e7f-b29a-68e7c79faebe",
   "metadata": {},
   "source": [
    "# Test ChromaDB"
   ]
  },
  {
   "cell_type": "code",
   "execution_count": 2,
   "id": "0a0fa847-efd0-4040-a202-f445d4fff4aa",
   "metadata": {},
   "outputs": [],
   "source": [
    "import os"
   ]
  },
  {
   "cell_type": "code",
   "execution_count": 3,
   "id": "4a019cc2-4b39-4e7f-bfc0-7cd2611f1af6",
   "metadata": {},
   "outputs": [],
   "source": [
    "CHROMA_IN_MEMORY = os.environ.get(\"CHROMA_IN_MEMORY\", \"True\")\n",
    "CHROMA_PERSISTENCE_DIR = os.environ.get(\"CHROMA_PERSISTENCE_DIR\", \"openai\")\n",
    "CHROMA_HOST = os.environ.get(\"CHROMA_HOST\", \"http://127.0.0.1\")\n",
    "CHROMA_PORT = os.environ.get(\"CHROMA_PORT\", \"8000\")\n",
    "CHROMA_COLLECTION = os.environ.get(\"CHROMA_COLLECTION\", \"openaiembeddings\")"
   ]
  },
  {
   "cell_type": "code",
   "execution_count": null,
   "id": "ea7cb17d-5388-4248-99eb-b54af6dec9ea",
   "metadata": {},
   "outputs": [],
   "source": []
  },
  {
   "cell_type": "code",
   "execution_count": null,
   "id": "e79bd50f-e9ed-4796-ac72-2f8cd2f9d495",
   "metadata": {},
   "outputs": [],
   "source": [
    "settings = (\n",
    "                    chromadb.config.Settings(\n",
    "                        chroma_db_impl=\"duckdb+parquet\",\n",
    "                        persist_directory=persistence_dir,\n",
    "                    )"
   ]
  },
  {
   "cell_type": "code",
   "execution_count": null,
   "id": "aad27042-5f80-4cbd-9acd-ebd7ef7e75ec",
   "metadata": {},
   "outputs": [],
   "source": []
  },
  {
   "cell_type": "code",
   "execution_count": null,
   "id": "31015274-638b-49c2-80c8-770ceb8fadd9",
   "metadata": {},
   "outputs": [],
   "source": [
    "self._client = chromadb.Client(settings=settings)"
   ]
  }
 ],
 "metadata": {
  "kernelspec": {
   "display_name": "Python 3 (ipykernel)",
   "language": "python",
   "name": "python3"
  },
  "language_info": {
   "codemirror_mode": {
    "name": "ipython",
    "version": 3
   },
   "file_extension": ".py",
   "mimetype": "text/x-python",
   "name": "python",
   "nbconvert_exporter": "python",
   "pygments_lexer": "ipython3",
   "version": "3.10.0"
  }
 },
 "nbformat": 4,
 "nbformat_minor": 5
}
